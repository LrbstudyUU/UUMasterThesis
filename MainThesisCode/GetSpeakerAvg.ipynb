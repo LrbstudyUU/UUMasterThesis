{
 "cells": [
  {
   "cell_type": "code",
   "execution_count": null,
   "metadata": {},
   "outputs": [],
   "source": [
    "#Script to get average speaking times per speaker as well as ratios\n",
    "import os\n",
    "import pandas as pd"
   ]
  },
  {
   "cell_type": "code",
   "execution_count": null,
   "metadata": {},
   "outputs": [],
   "source": [
    "paths = ['~/WavFiles_extraAudioAnalysis/transcripts', '~/WavFiles_extraAudioAnalysis_batch2/transcripts', '~/WavFiles_extraAudioAnalysis_batch3/transcripts']\n",
    "\n",
    "data = []"
   ]
  },
  {
   "cell_type": "code",
   "execution_count": null,
   "metadata": {},
   "outputs": [],
   "source": [
    "def collect_files(base_path):\n",
    "    all_files = []\n",
    "    for root, dirs, files in os.walk(base_path):\n",
    "        all_files.extend([os.path.join(root, file) for file in files])\n",
    "    return all_files"
   ]
  },
  {
   "cell_type": "code",
   "execution_count": null,
   "metadata": {},
   "outputs": [],
   "source": [
    "def process_directory(directory):\n",
    "    for filename in os.listdir(directory):\n",
    "    #for filename in directory:\n",
    "        if filename.endswith('.csv'):\n",
    "            filepath = os.path.join(directory, filename)\n",
    "            df = pd.read_csv(filepath, delimiter=';')\n",
    "            #df = pd.read_csv(filename, delimiter=';')\n",
    "            # Count sentences for each speaker\n",
    "            speaker1_count = df[df['speaker'] == 'SPEAKER_00'].shape[0]\n",
    "            speaker2_count = df[df['speaker'] == 'SPEAKER_01'].shape[0]\n",
    "            total_sentences = speaker1_count + speaker2_count\n",
    "            \n",
    "            # Ensure we avoid division by zero\n",
    "            if total_sentences == 0:\n",
    "                ratio = float('inf')\n",
    "            else:\n",
    "                ratio = abs((speaker1_count / total_sentences) - (speaker2_count / total_sentences))\n",
    "            \n",
    "            data.append({\n",
    "                'transcript_id': filename,\n",
    "                'speaker1_sentences': speaker1_count,\n",
    "                'speaker2_sentences': speaker2_count,\n",
    "                'ratio': ratio\n",
    "            })\n"
   ]
  },
  {
   "cell_type": "code",
   "execution_count": null,
   "metadata": {},
   "outputs": [],
   "source": [
    "for path in paths:\n",
    "    #all_files = collect_files(path)\n",
    "    process_directory(path)\n",
    "\n",
    "df = pd.DataFrame(data)"
   ]
  },
  {
   "cell_type": "code",
   "execution_count": null,
   "metadata": {},
   "outputs": [],
   "source": [
    "df.shape"
   ]
  },
  {
   "cell_type": "code",
   "execution_count": null,
   "metadata": {},
   "outputs": [],
   "source": [
    "print(df['speaker2_sentences'].unique())"
   ]
  },
  {
   "cell_type": "code",
   "execution_count": null,
   "metadata": {},
   "outputs": [],
   "source": [
    "average_ratio = df[df['ratio'] != float('inf')]['ratio'].mean()\n",
    "print(f\"Average Ratio: {average_ratio}\")"
   ]
  },
  {
   "cell_type": "code",
   "execution_count": null,
   "metadata": {},
   "outputs": [],
   "source": [
    "threshold = 1.25 * average_ratio\n",
    "print(f\"Threshold: {threshold}\")"
   ]
  },
  {
   "cell_type": "code",
   "execution_count": null,
   "metadata": {},
   "outputs": [],
   "source": [
    "average_filtered = df[(df['ratio'] <= average_ratio) & (df['ratio'] != float('inf'))]\n",
    "\n",
    "print(\"Filtered Transcripts:\")\n",
    "print(average_filtered.shape[0])\n",
    "print(df.shape[0])"
   ]
  },
  {
   "cell_type": "code",
   "execution_count": null,
   "metadata": {},
   "outputs": [],
   "source": [
    "threshold_filtered = df[(df['ratio'] <= threshold) & (df['ratio'] != float('inf'))]\n",
    "\n",
    "print(\"Filtered Transcripts:\")\n",
    "print(threshold_filtered.shape[0])\n",
    "print(df.shape[0])"
   ]
  },
  {
   "cell_type": "code",
   "execution_count": null,
   "metadata": {},
   "outputs": [],
   "source": [
    "average_filtered.to_csv('~/WavFiles_extraAudioAnalysis_batch3/Average_filtered_dataframe.csv', index=False)"
   ]
  },
  {
   "cell_type": "code",
   "execution_count": null,
   "metadata": {},
   "outputs": [],
   "source": [
    "threshold_filtered.to_csv('~/WavFiles_extraAudioAnalysis_batch3/threshold_filtered_dataframe.csv', index=False)"
   ]
  },
  {
   "cell_type": "code",
   "execution_count": null,
   "metadata": {},
   "outputs": [],
   "source": [
    "df.to_csv('~/WavFiles_extraAudioAnalysis_batch3/all_ratios.csv', index=False)"
   ]
  }
 ],
 "metadata": {
  "kernelspec": {
   "display_name": "Len_venv3.10",
   "language": "python",
   "name": "python3"
  },
  "language_info": {
   "codemirror_mode": {
    "name": "ipython",
    "version": 3
   },
   "file_extension": ".py",
   "mimetype": "text/x-python",
   "name": "python",
   "nbconvert_exporter": "python",
   "pygments_lexer": "ipython3",
   "version": "3.10.12"
  },
  "orig_nbformat": 4
 },
 "nbformat": 4,
 "nbformat_minor": 2
}
