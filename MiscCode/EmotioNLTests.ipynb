{
 "cells": [
  {
   "cell_type": "code",
   "execution_count": null,
   "metadata": {},
   "outputs": [],
   "source": [
    "#Some tests for EmotioNL dataset\n",
    "import pandas as pd\n",
    "import numpy as np\n",
    "from sklearn.model_selection import train_test_split\n",
    "import torch\n",
    "from torch.utils.data import Dataset, DataLoader\n",
    "from transformers import RobertaTokenizer, RobertaForSequenceClassification, Trainer, TrainingArguments, TrainerCallback\n",
    "from torch import cuda\n",
    "import os\n",
    "import matplotlib.pyplot as plt\n",
    "os.environ[\"WANDB_DISABLED\"] = \"true\"\n",
    "device = 'cuda' if cuda.is_available() else 'cpu'"
   ]
  },
  {
   "cell_type": "code",
   "execution_count": null,
   "metadata": {},
   "outputs": [],
   "source": [
    "sentences = pd.read_csv('~/RobBERT/corpus_fulltext_captions.txt', delimiter='\\t')"
   ]
  },
  {
   "cell_type": "code",
   "execution_count": null,
   "metadata": {},
   "outputs": [],
   "source": [
    "sentences.head()"
   ]
  },
  {
   "cell_type": "code",
   "execution_count": null,
   "metadata": {},
   "outputs": [],
   "source": [
    "sentences = sentences[['ID', 'Valence', 'Arousal']]\n",
    "sentences = sentences.rename(columns={'ID': 'Text', 'Valence': 'valence_label', 'Arousal': 'arousal_label'})"
   ]
  },
  {
   "cell_type": "code",
   "execution_count": null,
   "metadata": {},
   "outputs": [],
   "source": [
    "sentences.head()"
   ]
  },
  {
   "cell_type": "code",
   "execution_count": null,
   "metadata": {},
   "outputs": [],
   "source": [
    "train_df_sentences, val_df_sentences = train_test_split(sentences, test_size=0.2, random_state=42)"
   ]
  },
  {
   "cell_type": "code",
   "execution_count": null,
   "metadata": {},
   "outputs": [],
   "source": [
    "tokenizer = RobertaTokenizer.from_pretrained('DTAI-KULeuven/robbert-2023-dutch-base')"
   ]
  },
  {
   "cell_type": "code",
   "execution_count": null,
   "metadata": {},
   "outputs": [],
   "source": [
    "train_encodings_sentences = tokenizer(list(train_df_sentences['Text']), truncation=True, padding=True)\n",
    "val_encodings_sentences = tokenizer(list(val_df_sentences['Text']), truncation=True, padding=True)"
   ]
  },
  {
   "cell_type": "code",
   "execution_count": null,
   "metadata": {},
   "outputs": [],
   "source": [
    "class SentenceDataset(Dataset):\n",
    "    def __init__(self, encodings, arousal_labels, valence_labels):\n",
    "        self.encodings = encodings\n",
    "        self.arousal_labels = arousal_labels\n",
    "        self.valence_labels = valence_labels\n",
    "\n",
    "    def __getitem__(self, idx):\n",
    "        item = {key: torch.tensor(val[idx]) for key, val in self.encodings.items()}\n",
    "        item['arousal_labels'] = torch.tensor(self.arousal_labels[idx])\n",
    "        item['valence_labels'] = torch.tensor(self.valence_labels[idx])\n",
    "        return item\n",
    "\n",
    "    def __len__(self):\n",
    "        return len(self.arousal_labels)"
   ]
  },
  {
   "cell_type": "code",
   "execution_count": null,
   "metadata": {},
   "outputs": [],
   "source": [
    "train_dataset_sentences = SentenceDataset(train_encodings_sentences, list(train_df_sentences['arousal_label']), list(train_df_sentences['valence_label']))\n",
    "val_dataset_sentences = SentenceDataset(val_encodings_sentences, list(val_df_sentences['arousal_label']), list(val_df_sentences['valence_label']))"
   ]
  },
  {
   "cell_type": "code",
   "execution_count": null,
   "metadata": {},
   "outputs": [],
   "source": [
    "training_args = TrainingArguments(\n",
    "    output_dir='./results',\n",
    "    evaluation_strategy=\"steps\",\n",
    "    learning_rate=2e-5,\n",
    "    per_device_train_batch_size=16,\n",
    "    per_device_eval_batch_size=16,\n",
    "    num_train_epochs=5,\n",
    "    weight_decay=0.01,\n",
    "    logging_dir='./logs',  # directory for storing logs\n",
    "    logging_steps=10,      # log every 10 steps\n",
    ")"
   ]
  },
  {
   "cell_type": "code",
   "execution_count": null,
   "metadata": {},
   "outputs": [],
   "source": [
    "class LossHistoryCallback(TrainerCallback):\n",
    "    def __init__(self):\n",
    "        self.train_loss = []\n",
    "        self.eval_loss = []\n",
    "\n",
    "    def on_log(self, args, state, control, logs=None, **kwargs):\n",
    "        if 'loss' in logs:\n",
    "            self.train_loss.append(logs['loss'])\n",
    "        if 'eval_loss' in logs:\n",
    "            self.eval_loss.append(logs['eval_loss'])\n",
    "\n",
    "# Initialize the callback\n",
    "loss_history = LossHistoryCallback()"
   ]
  },
  {
   "cell_type": "code",
   "execution_count": null,
   "metadata": {},
   "outputs": [],
   "source": [
    "model = RobertaForSequenceClassification.from_pretrained('DTAI-KULeuven/robbert-2023-dutch-base', num_labels=1)\n",
    "model.to(device)"
   ]
  },
  {
   "cell_type": "code",
   "execution_count": null,
   "metadata": {},
   "outputs": [],
   "source": [
    "trainer_sentences = Trainer(\n",
    "    model=model,  # Use the fine-tuned model\n",
    "    args=training_args,\n",
    "    train_dataset=train_dataset_sentences,\n",
    "    eval_dataset=val_dataset_sentences,\n",
    "    callbacks=[loss_history],\n",
    ")"
   ]
  },
  {
   "cell_type": "code",
   "execution_count": null,
   "metadata": {},
   "outputs": [],
   "source": [
    "trainer_sentences.train()\n",
    "trainer_sentences.evaluate()"
   ]
  },
  {
   "cell_type": "code",
   "execution_count": null,
   "metadata": {},
   "outputs": [],
   "source": [
    "plt.figure(figsize=(10, 5))\n",
    "plt.plot(loss_history.train_loss, label='Training Loss')\n",
    "plt.plot(loss_history.eval_loss, label='Validation Loss')\n",
    "plt.ylim(0, 1)  # Adjust y-axis limit\n",
    "plt.xlabel('Steps')\n",
    "plt.ylabel('Loss')\n",
    "plt.legend()\n",
    "plt.title('Training and Validation Loss Over Time (Sentences)')\n",
    "plt.show()"
   ]
  },
  {
   "cell_type": "code",
   "execution_count": null,
   "metadata": {},
   "outputs": [],
   "source": [
    "tweets_df = pd.read_csv('~/RobBERT/corpus_fulltext_tweets.txt', sep='\\t')\n",
    "tweets_df = tweets_df[['Text', 'Valence', 'Arousal']]\n",
    "sentences_df\n",
    "#sentences_df = sentences_df.rename(columns={'ID': 'Text'})\n",
    "\n",
    "# tweet_df = pd.read_csv('path_to_tweet_dataset.csv')\n",
    "# tweet_df = tweet_df[['Tweet', 'Valence', 'Arousal']]\n",
    "# tweet_df = tweet_df.rename(columns={'Tweet': 'Text'})"
   ]
  }
 ],
 "metadata": {
  "kernelspec": {
   "display_name": "Len_venv3.10",
   "language": "python",
   "name": "python3"
  },
  "language_info": {
   "codemirror_mode": {
    "name": "ipython",
    "version": 3
   },
   "file_extension": ".py",
   "mimetype": "text/x-python",
   "name": "python",
   "nbconvert_exporter": "python",
   "pygments_lexer": "ipython3",
   "version": "3.10.12"
  },
  "orig_nbformat": 4
 },
 "nbformat": 4,
 "nbformat_minor": 2
}
