{
 "cells": [
  {
   "cell_type": "code",
   "execution_count": null,
   "metadata": {},
   "outputs": [],
   "source": [
    "#Test for creating valence arousal visualisations\n",
    "import pandas as pd\n",
    "import matplotlib.pyplot as plt\n",
    "import numpy as np\n",
    "\n",
    "df = pd.read_csv('~/test.csv', delimiter=';')"
   ]
  },
  {
   "cell_type": "code",
   "execution_count": null,
   "metadata": {},
   "outputs": [],
   "source": [
    "def plot_arousal_valence(df):\n",
    "    # Create a new figure\n",
    "    fig, ax = plt.subplots(figsize=(10, 10))\n",
    "    \n",
    "    # Plot the circular background\n",
    "    circle = plt.Circle((0.5, 0.5), 0.5, fill=False)\n",
    "    ax.add_artist(circle)\n",
    "    \n",
    "    # Plot the axes\n",
    "    ax.axhline(y=0.5, color='gray', linestyle='--')\n",
    "    ax.axvline(x=0.5, color='gray', linestyle='--')\n",
    "    \n",
    "    # Plot the data points\n",
    "    speakers = df['Speaker'].unique()\n",
    "    colors = ['red', 'blue']\n",
    "    \n",
    "    for speaker, color in zip(speakers, colors):\n",
    "        speaker_data = df[df['Speaker'] == speaker]\n",
    "        ax.scatter(speaker_data['Valence'], speaker_data['Arousal'], \n",
    "                   c=color, alpha=0.6, label=speaker)\n",
    "    \n",
    "    # Set the limits and labels\n",
    "    ax.set_xlim(0, 1)\n",
    "    ax.set_ylim(0, 1)\n",
    "    ax.set_xlabel('Valence')\n",
    "    ax.set_ylabel('Arousal')\n",
    "    \n",
    "    # Add labels for quadrants\n",
    "    ax.text(0.25, 0.75, 'High Arousal\\nNegative Valence', ha='center', va='center')\n",
    "    ax.text(0.75, 0.75, 'High Arousal\\nPositive Valence', ha='center', va='center')\n",
    "    ax.text(0.25, 0.25, 'Low Arousal\\nNegative Valence', ha='center', va='center')\n",
    "    ax.text(0.75, 0.25, 'Low Arousal\\nPositive Valence', ha='center', va='center')\n",
    "    \n",
    "    # Add a legend\n",
    "    ax.legend()\n",
    "    \n",
    "    # Set the title\n",
    "    ax.set_title('Arousal-Valence Model for Transcript')\n",
    "    \n",
    "    # Show the plot\n",
    "    plt.show()\n"
   ]
  },
  {
   "cell_type": "code",
   "execution_count": null,
   "metadata": {},
   "outputs": [],
   "source": [
    "plot_arousal_valence(df)"
   ]
  }
 ],
 "metadata": {
  "kernelspec": {
   "display_name": "Len_venv3.10",
   "language": "python",
   "name": "python3"
  },
  "language_info": {
   "codemirror_mode": {
    "name": "ipython",
    "version": 3
   },
   "file_extension": ".py",
   "mimetype": "text/x-python",
   "name": "python",
   "nbconvert_exporter": "python",
   "pygments_lexer": "ipython3",
   "version": "3.10.12"
  },
  "orig_nbformat": 4
 },
 "nbformat": 4,
 "nbformat_minor": 2
}
